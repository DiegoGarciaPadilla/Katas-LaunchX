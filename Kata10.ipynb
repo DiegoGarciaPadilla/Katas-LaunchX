{
 "cells": [
  {
   "cell_type": "markdown",
   "metadata": {},
   "source": [
    "# Kata 10"
   ]
  },
  {
   "cell_type": "markdown",
   "metadata": {},
   "source": [
    "### Generación de excepciones"
   ]
  },
  {
   "cell_type": "code",
   "execution_count": 1,
   "metadata": {},
   "outputs": [],
   "source": [
    "def agua_restante(astronautas, agua_restante, dias_restantes):\n",
    "    uso_diario = astronautas * 11\n",
    "    uso_total = uso_diario * dias_restantes\n",
    "    agua_restante_total = agua_restante - uso_total\n",
    "    return f\"Agua total restante después de {dias_restantes} dias es: {agua_restante_total} litros\""
   ]
  },
  {
   "cell_type": "code",
   "execution_count": 2,
   "metadata": {},
   "outputs": [
    {
     "name": "stdout",
     "output_type": "stream",
     "text": [
      "Agua total restante después de 2 dias es: -10 litros\n"
     ]
    }
   ],
   "source": [
    "print(agua_restante(5, 100, 2))"
   ]
  },
  {
   "cell_type": "code",
   "execution_count": 3,
   "metadata": {},
   "outputs": [],
   "source": [
    "def agua_restante(astronautas, agua_restante, dias_restantes):\n",
    "    uso_diario = astronautas * 11\n",
    "    uso_total = uso_diario * dias_restantes\n",
    "    agua_restante_total = agua_restante - uso_total\n",
    "    if agua_restante_total < 0:\n",
    "        raise RuntimeError(f\"¡No habrá suficiente agua para {astronautas} astronautas despues de {dias_restantes} days!\") \n",
    "    return f\"Agua total restante después de {dias_restantes} dias es: {agua_restante_total} litros\""
   ]
  },
  {
   "cell_type": "code",
   "execution_count": 4,
   "metadata": {},
   "outputs": [
    {
     "ename": "RuntimeError",
     "evalue": "¡No habrá suficiente agua para 5 astronautas despues de 2 days!",
     "output_type": "error",
     "traceback": [
      "\u001b[1;31m---------------------------------------------------------------------------\u001b[0m",
      "\u001b[1;31mRuntimeError\u001b[0m                              Traceback (most recent call last)",
      "\u001b[1;32mc:\\Users\\gpdie\\OneDrive\\Documents\\Launch X\\Modulo 10\\Kata10.ipynb Cell 6'\u001b[0m in \u001b[0;36m<module>\u001b[1;34m\u001b[0m\n\u001b[1;32m----> <a href='vscode-notebook-cell:/c%3A/Users/gpdie/OneDrive/Documents/Launch%20X/Modulo%2010/Kata10.ipynb#ch0000006?line=0'>1</a>\u001b[0m \u001b[39mprint\u001b[39m(agua_restante(\u001b[39m5\u001b[39;49m, \u001b[39m100\u001b[39;49m, \u001b[39m2\u001b[39;49m))\n",
      "\u001b[1;32mc:\\Users\\gpdie\\OneDrive\\Documents\\Launch X\\Modulo 10\\Kata10.ipynb Cell 5'\u001b[0m in \u001b[0;36magua_restante\u001b[1;34m(astronautas, agua_restante, dias_restantes)\u001b[0m\n\u001b[0;32m      <a href='vscode-notebook-cell:/c%3A/Users/gpdie/OneDrive/Documents/Launch%20X/Modulo%2010/Kata10.ipynb#ch0000005?line=3'>4</a>\u001b[0m agua_restante_total \u001b[39m=\u001b[39m agua_restante \u001b[39m-\u001b[39m uso_total\n\u001b[0;32m      <a href='vscode-notebook-cell:/c%3A/Users/gpdie/OneDrive/Documents/Launch%20X/Modulo%2010/Kata10.ipynb#ch0000005?line=4'>5</a>\u001b[0m \u001b[39mif\u001b[39;00m agua_restante_total \u001b[39m<\u001b[39m \u001b[39m0\u001b[39m:\n\u001b[1;32m----> <a href='vscode-notebook-cell:/c%3A/Users/gpdie/OneDrive/Documents/Launch%20X/Modulo%2010/Kata10.ipynb#ch0000005?line=5'>6</a>\u001b[0m     \u001b[39mraise\u001b[39;00m \u001b[39mRuntimeError\u001b[39;00m(\u001b[39mf\u001b[39m\u001b[39m\"\u001b[39m\u001b[39m¡No habrá suficiente agua para \u001b[39m\u001b[39m{\u001b[39;00mastronautas\u001b[39m}\u001b[39;00m\u001b[39m astronautas despues de \u001b[39m\u001b[39m{\u001b[39;00mdias_restantes\u001b[39m}\u001b[39;00m\u001b[39m days!\u001b[39m\u001b[39m\"\u001b[39m) \n\u001b[0;32m      <a href='vscode-notebook-cell:/c%3A/Users/gpdie/OneDrive/Documents/Launch%20X/Modulo%2010/Kata10.ipynb#ch0000005?line=6'>7</a>\u001b[0m \u001b[39mreturn\u001b[39;00m \u001b[39mf\u001b[39m\u001b[39m\"\u001b[39m\u001b[39mAgua total restante después de \u001b[39m\u001b[39m{\u001b[39;00mdias_restantes\u001b[39m}\u001b[39;00m\u001b[39m dias es: \u001b[39m\u001b[39m{\u001b[39;00magua_restante_total\u001b[39m}\u001b[39;00m\u001b[39m litros\u001b[39m\u001b[39m\"\u001b[39m\n",
      "\u001b[1;31mRuntimeError\u001b[0m: ¡No habrá suficiente agua para 5 astronautas despues de 2 days!"
     ]
    }
   ],
   "source": [
    "print(agua_restante(5, 100, 2))"
   ]
  },
  {
   "cell_type": "code",
   "execution_count": null,
   "metadata": {},
   "outputs": [
    {
     "name": "stdout",
     "output_type": "stream",
     "text": [
      "¡No habrá suficiente agua para 5 astronautas despues de 2 days!\n"
     ]
    }
   ],
   "source": [
    "try:\n",
    "    agua_restante(5, 100, 2)\n",
    "except RuntimeError as err:\n",
    "    print(f\"{err}\")"
   ]
  },
  {
   "cell_type": "code",
   "execution_count": 5,
   "metadata": {},
   "outputs": [
    {
     "ename": "TypeError",
     "evalue": "can't multiply sequence by non-int of type 'NoneType'",
     "output_type": "error",
     "traceback": [
      "\u001b[1;31m---------------------------------------------------------------------------\u001b[0m",
      "\u001b[1;31mTypeError\u001b[0m                                 Traceback (most recent call last)",
      "\u001b[1;32mc:\\Users\\gpdie\\OneDrive\\Documents\\Launch X\\Modulo 10\\Kata10.ipynb Cell 8'\u001b[0m in \u001b[0;36m<module>\u001b[1;34m\u001b[0m\n\u001b[1;32m----> <a href='vscode-notebook-cell:/c%3A/Users/gpdie/OneDrive/Documents/Launch%20X/Modulo%2010/Kata10.ipynb#ch0000009?line=0'>1</a>\u001b[0m \u001b[39mprint\u001b[39m(agua_restante(\u001b[39m\"\u001b[39;49m\u001b[39m3\u001b[39;49m\u001b[39m\"\u001b[39;49m, \u001b[39m\"\u001b[39;49m\u001b[39m200\u001b[39;49m\u001b[39m\"\u001b[39;49m, \u001b[39mNone\u001b[39;49;00m))\n",
      "\u001b[1;32mc:\\Users\\gpdie\\OneDrive\\Documents\\Launch X\\Modulo 10\\Kata10.ipynb Cell 5'\u001b[0m in \u001b[0;36magua_restante\u001b[1;34m(astronautas, agua_restante, dias_restantes)\u001b[0m\n\u001b[0;32m      <a href='vscode-notebook-cell:/c%3A/Users/gpdie/OneDrive/Documents/Launch%20X/Modulo%2010/Kata10.ipynb#ch0000005?line=0'>1</a>\u001b[0m \u001b[39mdef\u001b[39;00m \u001b[39magua_restante\u001b[39m(astronautas, agua_restante, dias_restantes):\n\u001b[0;32m      <a href='vscode-notebook-cell:/c%3A/Users/gpdie/OneDrive/Documents/Launch%20X/Modulo%2010/Kata10.ipynb#ch0000005?line=1'>2</a>\u001b[0m     uso_diario \u001b[39m=\u001b[39m astronautas \u001b[39m*\u001b[39m \u001b[39m11\u001b[39m\n\u001b[1;32m----> <a href='vscode-notebook-cell:/c%3A/Users/gpdie/OneDrive/Documents/Launch%20X/Modulo%2010/Kata10.ipynb#ch0000005?line=2'>3</a>\u001b[0m     uso_total \u001b[39m=\u001b[39m uso_diario \u001b[39m*\u001b[39;49m dias_restantes\n\u001b[0;32m      <a href='vscode-notebook-cell:/c%3A/Users/gpdie/OneDrive/Documents/Launch%20X/Modulo%2010/Kata10.ipynb#ch0000005?line=3'>4</a>\u001b[0m     agua_restante_total \u001b[39m=\u001b[39m agua_restante \u001b[39m-\u001b[39m uso_total\n\u001b[0;32m      <a href='vscode-notebook-cell:/c%3A/Users/gpdie/OneDrive/Documents/Launch%20X/Modulo%2010/Kata10.ipynb#ch0000005?line=4'>5</a>\u001b[0m     \u001b[39mif\u001b[39;00m agua_restante_total \u001b[39m<\u001b[39m \u001b[39m0\u001b[39m:\n",
      "\u001b[1;31mTypeError\u001b[0m: can't multiply sequence by non-int of type 'NoneType'"
     ]
    }
   ],
   "source": [
    "print(agua_restante(\"3\", \"200\", None))"
   ]
  },
  {
   "cell_type": "code",
   "execution_count": 6,
   "metadata": {},
   "outputs": [],
   "source": [
    "def agua_restante(astronautas, agua_restante, dias_restantes):\n",
    "    for argumento in [astronautas, agua_restante, dias_restantes]:\n",
    "        try:\n",
    "            # If argument is an int, the following operation will work\n",
    "            argumento / 10\n",
    "        except TypeError:\n",
    "            # TypError will be raised only if it isn't the right type \n",
    "            # Raise the same exception but with a better error message\n",
    "            raise TypeError(f\"Todos los argumentos deben ser enteros, pero se recibió: '{argumento}'\")\n",
    "    uso_diario = astronautas * 11\n",
    "    uso_total = uso_diario * dias_restantes\n",
    "    agua_restante_total = agua_restante - uso_total\n",
    "    if agua_restante_total < 0:\n",
    "        raise RuntimeError(f\"¡No habrá suficiente agua para {astronautas} astronautas despues de {dias_restantes} days!\") \n",
    "    return f\"Agua total restante después de {dias_restantes} dias es: {agua_restante_total} litros\""
   ]
  },
  {
   "cell_type": "code",
   "execution_count": 7,
   "metadata": {},
   "outputs": [
    {
     "ename": "TypeError",
     "evalue": "Todos los argumentos deben ser enteros, pero se recibió: '3'",
     "output_type": "error",
     "traceback": [
      "\u001b[1;31m---------------------------------------------------------------------------\u001b[0m",
      "\u001b[1;31mTypeError\u001b[0m                                 Traceback (most recent call last)",
      "\u001b[1;32mc:\\Users\\gpdie\\OneDrive\\Documents\\Launch X\\Modulo 10\\Kata10.ipynb Cell 9'\u001b[0m in \u001b[0;36magua_restante\u001b[1;34m(astronautas, agua_restante, dias_restantes)\u001b[0m\n\u001b[0;32m      <a href='vscode-notebook-cell:/c%3A/Users/gpdie/OneDrive/Documents/Launch%20X/Modulo%2010/Kata10.ipynb#ch0000010?line=2'>3</a>\u001b[0m \u001b[39mtry\u001b[39;00m:\n\u001b[0;32m      <a href='vscode-notebook-cell:/c%3A/Users/gpdie/OneDrive/Documents/Launch%20X/Modulo%2010/Kata10.ipynb#ch0000010?line=3'>4</a>\u001b[0m     \u001b[39m# If argument is an int, the following operation will work\u001b[39;00m\n\u001b[1;32m----> <a href='vscode-notebook-cell:/c%3A/Users/gpdie/OneDrive/Documents/Launch%20X/Modulo%2010/Kata10.ipynb#ch0000010?line=4'>5</a>\u001b[0m     argumento \u001b[39m/\u001b[39;49m \u001b[39m10\u001b[39;49m\n\u001b[0;32m      <a href='vscode-notebook-cell:/c%3A/Users/gpdie/OneDrive/Documents/Launch%20X/Modulo%2010/Kata10.ipynb#ch0000010?line=5'>6</a>\u001b[0m \u001b[39mexcept\u001b[39;00m \u001b[39mTypeError\u001b[39;00m:\n\u001b[0;32m      <a href='vscode-notebook-cell:/c%3A/Users/gpdie/OneDrive/Documents/Launch%20X/Modulo%2010/Kata10.ipynb#ch0000010?line=6'>7</a>\u001b[0m     \u001b[39m# TypError will be raised only if it isn't the right type \u001b[39;00m\n\u001b[0;32m      <a href='vscode-notebook-cell:/c%3A/Users/gpdie/OneDrive/Documents/Launch%20X/Modulo%2010/Kata10.ipynb#ch0000010?line=7'>8</a>\u001b[0m     \u001b[39m# Raise the same exception but with a better error message\u001b[39;00m\n",
      "\u001b[1;31mTypeError\u001b[0m: unsupported operand type(s) for /: 'str' and 'int'",
      "\nDuring handling of the above exception, another exception occurred:\n",
      "\u001b[1;31mTypeError\u001b[0m                                 Traceback (most recent call last)",
      "\u001b[1;32mc:\\Users\\gpdie\\OneDrive\\Documents\\Launch X\\Modulo 10\\Kata10.ipynb Cell 10'\u001b[0m in \u001b[0;36m<module>\u001b[1;34m\u001b[0m\n\u001b[1;32m----> <a href='vscode-notebook-cell:/c%3A/Users/gpdie/OneDrive/Documents/Launch%20X/Modulo%2010/Kata10.ipynb#ch0000011?line=0'>1</a>\u001b[0m agua_restante(\u001b[39m\"\u001b[39;49m\u001b[39m3\u001b[39;49m\u001b[39m\"\u001b[39;49m, \u001b[39m\"\u001b[39;49m\u001b[39m200\u001b[39;49m\u001b[39m\"\u001b[39;49m, \u001b[39mNone\u001b[39;49;00m)\n",
      "\u001b[1;32mc:\\Users\\gpdie\\OneDrive\\Documents\\Launch X\\Modulo 10\\Kata10.ipynb Cell 9'\u001b[0m in \u001b[0;36magua_restante\u001b[1;34m(astronautas, agua_restante, dias_restantes)\u001b[0m\n\u001b[0;32m      <a href='vscode-notebook-cell:/c%3A/Users/gpdie/OneDrive/Documents/Launch%20X/Modulo%2010/Kata10.ipynb#ch0000010?line=4'>5</a>\u001b[0m         argumento \u001b[39m/\u001b[39m \u001b[39m10\u001b[39m\n\u001b[0;32m      <a href='vscode-notebook-cell:/c%3A/Users/gpdie/OneDrive/Documents/Launch%20X/Modulo%2010/Kata10.ipynb#ch0000010?line=5'>6</a>\u001b[0m     \u001b[39mexcept\u001b[39;00m \u001b[39mTypeError\u001b[39;00m:\n\u001b[0;32m      <a href='vscode-notebook-cell:/c%3A/Users/gpdie/OneDrive/Documents/Launch%20X/Modulo%2010/Kata10.ipynb#ch0000010?line=6'>7</a>\u001b[0m         \u001b[39m# TypError will be raised only if it isn't the right type \u001b[39;00m\n\u001b[0;32m      <a href='vscode-notebook-cell:/c%3A/Users/gpdie/OneDrive/Documents/Launch%20X/Modulo%2010/Kata10.ipynb#ch0000010?line=7'>8</a>\u001b[0m         \u001b[39m# Raise the same exception but with a better error message\u001b[39;00m\n\u001b[1;32m----> <a href='vscode-notebook-cell:/c%3A/Users/gpdie/OneDrive/Documents/Launch%20X/Modulo%2010/Kata10.ipynb#ch0000010?line=8'>9</a>\u001b[0m         \u001b[39mraise\u001b[39;00m \u001b[39mTypeError\u001b[39;00m(\u001b[39mf\u001b[39m\u001b[39m\"\u001b[39m\u001b[39mTodos los argumentos deben ser enteros, pero se recibió: \u001b[39m\u001b[39m'\u001b[39m\u001b[39m{\u001b[39;00margumento\u001b[39m}\u001b[39;00m\u001b[39m'\u001b[39m\u001b[39m\"\u001b[39m)\n\u001b[0;32m     <a href='vscode-notebook-cell:/c%3A/Users/gpdie/OneDrive/Documents/Launch%20X/Modulo%2010/Kata10.ipynb#ch0000010?line=9'>10</a>\u001b[0m uso_diario \u001b[39m=\u001b[39m astronautas \u001b[39m*\u001b[39m \u001b[39m11\u001b[39m\n\u001b[0;32m     <a href='vscode-notebook-cell:/c%3A/Users/gpdie/OneDrive/Documents/Launch%20X/Modulo%2010/Kata10.ipynb#ch0000010?line=10'>11</a>\u001b[0m uso_total \u001b[39m=\u001b[39m uso_diario \u001b[39m*\u001b[39m dias_restantes\n",
      "\u001b[1;31mTypeError\u001b[0m: Todos los argumentos deben ser enteros, pero se recibió: '3'"
     ]
    }
   ],
   "source": [
    "agua_restante(\"3\", \"200\", None)"
   ]
  }
 ],
 "metadata": {
  "interpreter": {
   "hash": "a08e4cc4ed8ad161d0ffe75538bfe355c82967a180f2a985f8626ce898eab88c"
  },
  "kernelspec": {
   "display_name": "Python 3.10.2 64-bit",
   "language": "python",
   "name": "python3"
  },
  "language_info": {
   "codemirror_mode": {
    "name": "ipython",
    "version": 3
   },
   "file_extension": ".py",
   "mimetype": "text/x-python",
   "name": "python",
   "nbconvert_exporter": "python",
   "pygments_lexer": "ipython3",
   "version": "3.10.2"
  },
  "orig_nbformat": 4
 },
 "nbformat": 4,
 "nbformat_minor": 2
}
