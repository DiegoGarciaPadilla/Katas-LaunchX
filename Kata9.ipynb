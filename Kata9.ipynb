{
 "cells": [
  {
   "cell_type": "markdown",
   "metadata": {},
   "source": [
    "# Kata 9"
   ]
  },
  {
   "cell_type": "markdown",
   "metadata": {},
   "source": [
    "### Ejercicio 1: Trabajar con argumentos en funciones"
   ]
  },
  {
   "cell_type": "code",
   "execution_count": 95,
   "metadata": {},
   "outputs": [],
   "source": [
    "def reporte_tanques(tanque_1, tanque_2, tanque_3):\n",
    "    return f\"Promedio de los tanques: {(tanque_1+tanque_2+tanque_3)/3}\""
   ]
  },
  {
   "cell_type": "code",
   "execution_count": 96,
   "metadata": {},
   "outputs": [
    {
     "name": "stdout",
     "output_type": "stream",
     "text": [
      "Promedio de los tanques: 0.0\n"
     ]
    }
   ],
   "source": [
    "print(reporte_tanques(0, 0, 0))"
   ]
  },
  {
   "cell_type": "code",
   "execution_count": 97,
   "metadata": {},
   "outputs": [],
   "source": [
    "def promedio(valores):\n",
    "    suma = 0\n",
    "    for valor in valores:\n",
    "        suma += valor\n",
    "    return suma/len(valores)"
   ]
  },
  {
   "cell_type": "code",
   "execution_count": 98,
   "metadata": {},
   "outputs": [],
   "source": [
    "def reporte_tanques(tanque_1, tanque_2, tanque_3):\n",
    "    return f\"Promedio de los tanques: {promedio([tanque_1, tanque_2, tanque_3])}\""
   ]
  },
  {
   "cell_type": "code",
   "execution_count": 99,
   "metadata": {},
   "outputs": [
    {
     "name": "stdout",
     "output_type": "stream",
     "text": [
      "Promedio de los tanques: 15.0\n"
     ]
    }
   ],
   "source": [
    "print(reporte_tanques(15, 20, 10))"
   ]
  },
  {
   "cell_type": "markdown",
   "metadata": {},
   "source": [
    "### Ejercicio 2: Trabajo con argumentos de palabra clave"
   ]
  },
  {
   "cell_type": "code",
   "execution_count": 100,
   "metadata": {},
   "outputs": [],
   "source": [
    "def informe_mision(hora_prelanzamiento, tiempo_vuelo, destino, tanque_externo, tanque_interno):\n",
    "    return f\"\"\"Misión a {destino}\n",
    "Tiempo total de viaje: {hora_prelanzamiento + tiempo_vuelo} minutos\n",
    "Combustible restante: {tanque_externo + tanque_interno} galones\"\"\""
   ]
  },
  {
   "cell_type": "code",
   "execution_count": 101,
   "metadata": {},
   "outputs": [
    {
     "name": "stdout",
     "output_type": "stream",
     "text": [
      "Misión a Saturno\n",
      "Tiempo total de viaje: 55 minutos\n",
      "Combustible restante: 9500 galones\n"
     ]
    }
   ],
   "source": [
    "print(informe_mision(15, 40, \"Saturno\", 7000, 2500))"
   ]
  },
  {
   "cell_type": "code",
   "execution_count": 102,
   "metadata": {},
   "outputs": [],
   "source": [
    "def informe_mision(destino, *minutos, **combustible):\n",
    "    reporte = f\"\"\"Misión a {destino}\n",
    "Tiempo total de viaje: {sum(minutos)} minutos\n",
    "Total de combustible restante: {sum(combustible.values())} galones\n",
    "\"\"\"\n",
    "\n",
    "    for tanque, galones in combustible.items():\n",
    "        reporte += f\"{tanque} tanque --> {galones} galones \\n\"\n",
    "    return reporte"
   ]
  },
  {
   "cell_type": "code",
   "execution_count": 103,
   "metadata": {},
   "outputs": [
    {
     "name": "stdout",
     "output_type": "stream",
     "text": [
      "Misión a Saturno\n",
      "Tiempo total de viaje: 150 minutos\n",
      "Total de combustible restante: 9500 galones\n",
      "Principal tanque --> 7000 galones \n",
      "Secundario tanque --> 2500 galones \n",
      "\n"
     ]
    }
   ],
   "source": [
    "print(informe_mision(\"Saturno\", 40, 50, 60, Principal=7000, Secundario=2500))"
   ]
  }
 ],
 "metadata": {
  "interpreter": {
   "hash": "a08e4cc4ed8ad161d0ffe75538bfe355c82967a180f2a985f8626ce898eab88c"
  },
  "kernelspec": {
   "display_name": "Python 3.10.2 64-bit",
   "language": "python",
   "name": "python3"
  },
  "language_info": {
   "codemirror_mode": {
    "name": "ipython",
    "version": 3
   },
   "file_extension": ".py",
   "mimetype": "text/x-python",
   "name": "python",
   "nbconvert_exporter": "python",
   "pygments_lexer": "ipython3",
   "version": "3.10.2"
  },
  "orig_nbformat": 4
 },
 "nbformat": 4,
 "nbformat_minor": 2
}
