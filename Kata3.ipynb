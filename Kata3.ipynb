{
 "cells": [
  {
   "cell_type": "markdown",
   "metadata": {},
   "source": [
    "# Kata 3"
   ]
  },
  {
   "cell_type": "markdown",
   "metadata": {},
   "source": []
  },
  {
   "cell_type": "code",
   "execution_count": 11,
   "metadata": {},
   "outputs": [
    {
     "name": "stdout",
     "output_type": "stream",
     "text": [
      "¡EL ASTEROIDE VA DEMASIADO RÁPIDO!\n"
     ]
    }
   ],
   "source": [
    "velocidad_asteroide = 49\n",
    "\n",
    "if velocidad_asteroide > 25:\n",
    "    print (\"¡EL ASTEROIDE VA DEMASIADO RÁPIDO!\")\n",
    "else:\n",
    "    print (\"El asteroide va a una velocidad aceptable\")"
   ]
  },
  {
   "cell_type": "code",
   "execution_count": 12,
   "metadata": {},
   "outputs": [
    {
     "name": "stdout",
     "output_type": "stream",
     "text": [
      "Nada fuera de lo ordinario\n"
     ]
    }
   ],
   "source": [
    "velocidad_asteroide = 19\n",
    "\n",
    "if velocidad_asteroide > 20:\n",
    "    print('¡Mira al cielo! Un asteroide a la vista')\n",
    "elif velocidad_asteroide == 20:\n",
    "    print('¡Mira al cielo! Un asteroide a la vista')\n",
    "else:\n",
    "    print(\"Nada fuera de lo ordinario\")"
   ]
  },
  {
   "cell_type": "code",
   "execution_count": 13,
   "metadata": {},
   "outputs": [
    {
     "name": "stdout",
     "output_type": "stream",
     "text": [
      "¡ALERTA DE ASTEROIDE! PELIGRO INMINENTE\n"
     ]
    }
   ],
   "source": [
    "velocidad_asteroide = 50\n",
    "tamano_asteroide = 80\n",
    "\n",
    "if velocidad_asteroide > 25 and (tamano_asteroide > 25 and tamano_asteroide < 1000):\n",
    "    print (\"¡ALERTA DE ASTEROIDE! PELIGRO INMINENTE\")\n",
    "elif velocidad_asteroide >= 20:\n",
    "    print('¡Mira al cielo! Un asteroide a la vista')\n",
    "else:\n",
    "    print(\"Nada fuera de lo ordinario\")\n",
    "    "
   ]
  }
 ],
 "metadata": {
  "interpreter": {
   "hash": "622164a7caa0cd1d565f5461d06b6ddb50726fba85f59a9e630ed71329ecee2d"
  },
  "kernelspec": {
   "display_name": "Python 3.10.2 64-bit (windows store)",
   "language": "python",
   "name": "python3"
  },
  "language_info": {
   "codemirror_mode": {
    "name": "ipython",
    "version": 3
   },
   "file_extension": ".py",
   "mimetype": "text/x-python",
   "name": "python",
   "nbconvert_exporter": "python",
   "pygments_lexer": "ipython3",
   "version": "3.10.2"
  },
  "orig_nbformat": 4
 },
 "nbformat": 4,
 "nbformat_minor": 2
}
